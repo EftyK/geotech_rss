{
 "cells": [
  {
   "cell_type": "code",
   "execution_count": null,
   "id": "c736f201-02ae-4343-9136-567ce3c65c9c",
   "metadata": {},
   "outputs": [],
   "source": [
    "import requests\n",
    "from bs4 import BeautifulSoup"
   ]
  },
  {
   "cell_type": "code",
   "execution_count": null,
   "id": "d2c9ebd9-84fe-4582-82a8-f84f55b87af4",
   "metadata": {},
   "outputs": [],
   "source": [
    "url = 'https://mastergeotech.info/news/'\n",
    "\n",
    "response = requests.get(url)\n",
    "response.raise_for_status()  # Check for HTTP errors"
   ]
  },
  {
   "cell_type": "code",
   "execution_count": null,
   "id": "37d65403-7394-4cfb-aed9-0abf577231c3",
   "metadata": {},
   "outputs": [],
   "source": [
    "soup = BeautifulSoup(response.content, 'html.parser')\n",
    "\n",
    "articles = soup.find_all('div', class_='block_content')  # Div class for news entry (includes title and description, but not picture "
   ]
  },
  {
   "cell_type": "code",
   "execution_count": null,
   "id": "cec3627c-3ca0-41f1-9121-4f71b163ae76",
   "metadata": {},
   "outputs": [],
   "source": [
    "articles"
   ]
  },
  {
   "cell_type": "code",
   "execution_count": null,
   "id": "db8cf72d-ce62-4cae-9069-f9f1ea3bd596",
   "metadata": {},
   "outputs": [],
   "source": [
    "news_items = []\n",
    "for article in articles:\n",
    "    title = article.find('div', class_='blog_info').get_text()\n",
    "    link = article.find('a')['href'] # will only return the first occurence for 'a', so we're good with this structure\n",
    "    pub_date = article.find('div', class_='date').get_text()\n",
    "    content = article.find('div', class_='blog_content').get_text()\n",
    "\n",
    "    news_items.append({\n",
    "        'title': title,\n",
    "        'link': link,\n",
    "        'pub_date': pub_date,\n",
    "        'content': content\n",
    "    })"
   ]
  },
  {
   "cell_type": "code",
   "execution_count": null,
   "id": "8d5eaca8-5149-4f93-a1f4-5c5c6667a464",
   "metadata": {},
   "outputs": [],
   "source": [
    "news_items"
   ]
  },
  {
   "cell_type": "markdown",
   "id": "25e0468a-d650-4c51-9e05-6e969844d13c",
   "metadata": {},
   "source": [
    "TODO: \n",
    "* Format the entries ditching \\n, \\t, etc. and keeping only the clean text.\n",
    "* Count the characters and make sure the post is less than the allowed number of characters in Mastodon posts. Chop trailing ends if necessary.\n",
    "* Save feed to an xml file.\n",
    "* Check if the website is blocking client after scraping."
   ]
  },
  {
   "cell_type": "code",
   "execution_count": null,
   "id": "65ded641-270e-4093-a68e-90be9f95e36c",
   "metadata": {},
   "outputs": [],
   "source": []
  }
 ],
 "metadata": {
  "kernelspec": {
   "display_name": "Python 3 (ipykernel)",
   "language": "python",
   "name": "python3"
  },
  "language_info": {
   "codemirror_mode": {
    "name": "ipython",
    "version": 3
   },
   "file_extension": ".py",
   "mimetype": "text/x-python",
   "name": "python",
   "nbconvert_exporter": "python",
   "pygments_lexer": "ipython3",
   "version": "3.13.1"
  }
 },
 "nbformat": 4,
 "nbformat_minor": 5
}
